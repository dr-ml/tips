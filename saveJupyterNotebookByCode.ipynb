{
  "nbformat": 4,
  "nbformat_minor": 0,
  "metadata": {
    "colab": {
      "name": "saveJupyterNotebookByCode.ipynb",
      "provenance": [],
      "collapsed_sections": [],
      "authorship_tag": "ABX9TyNLtQcWnjXhiaxZyHNj+QkG",
      "include_colab_link": true
    },
    "kernelspec": {
      "name": "python3",
      "display_name": "Python 3"
    }
  },
  "cells": [
    {
      "cell_type": "markdown",
      "metadata": {
        "id": "view-in-github",
        "colab_type": "text"
      },
      "source": [
        "<a href=\"https://colab.research.google.com/github/dr-ml/tips/blob/master/saveJupyterNotebookByCode.ipynb\" target=\"_parent\"><img src=\"https://colab.research.google.com/assets/colab-badge.svg\" alt=\"Open In Colab\"/></a>"
      ]
    },
    {
      "cell_type": "markdown",
      "metadata": {
        "id": "buydUHeZt0JP",
        "colab_type": "text"
      },
      "source": [
        "Save an IPython notebook programmatically from within itself?\n",
        "\n",
        "https://stackoverflow.com/questions/32237275/save-an-ipython-notebook-programmatically-from-within-itself"
      ]
    },
    {
      "cell_type": "code",
      "metadata": {
        "id": "lEpxLcm8dH-d",
        "colab_type": "code",
        "outputId": "184afc05-f6d9-438f-f6a4-30ce177928e3",
        "colab": {
          "base_uri": "https://localhost:8080/",
          "height": 17
        }
      },
      "source": [
        "from IPython.display import display, Javascript\n",
        "display(Javascript('IPython.notebook.save_checkpoint();'))"
      ],
      "execution_count": 0,
      "outputs": [
        {
          "output_type": "display_data",
          "data": {
            "application/javascript": [
              "IPython.notebook.save_checkpoint();"
            ],
            "text/plain": [
              "<IPython.core.display.Javascript object>"
            ]
          },
          "metadata": {
            "tags": []
          }
        }
      ]
    }
  ]
}