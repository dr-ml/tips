{
  "nbformat": 4,
  "nbformat_minor": 0,
  "metadata": {
    "colab": {
      "name": "mountGoogleDrive.ipynb",
      "provenance": [],
      "collapsed_sections": [],
      "authorship_tag": "ABX9TyPmjD/TfBY1OUmNKshPPala",
      "include_colab_link": true
    },
    "kernelspec": {
      "name": "python3",
      "display_name": "Python 3"
    }
  },
  "cells": [
    {
      "cell_type": "markdown",
      "metadata": {
        "id": "view-in-github",
        "colab_type": "text"
      },
      "source": [
        "<a href=\"https://colab.research.google.com/github/dr-ml/tips/blob/master/mountGoogleDrive.ipynb\" target=\"_parent\"><img src=\"https://colab.research.google.com/assets/colab-badge.svg\" alt=\"Open In Colab\"/></a>"
      ]
    },
    {
      "cell_type": "markdown",
      "metadata": {
        "id": "d7A1swXXxJVF",
        "colab_type": "text"
      },
      "source": [
        "Google DriveをGoogle Colabにマウント"
      ]
    },
    {
      "cell_type": "code",
      "metadata": {
        "id": "A08ka2PBwqHt",
        "colab_type": "code",
        "colab": {}
      },
      "source": [
        "from google.colab import drive\n",
        "drive.mount('/content/gdrive')"
      ],
      "execution_count": 0,
      "outputs": []
    },
    {
      "cell_type": "markdown",
      "metadata": {
        "id": "_sQbVFLTw1Fi",
        "colab_type": "text"
      },
      "source": [
        "Google DriveのノートブックのディレクトリをJupyter Notebook (IPython)の magic command (%)を使って調べる"
      ]
    },
    {
      "cell_type": "code",
      "metadata": {
        "id": "2gn1sY_8w9sn",
        "colab_type": "code",
        "colab": {}
      },
      "source": [
        "%cd \"/content/gdrive/My Drive/Colab Notebooks\"\n",
        "%pwd\n",
        "%ls -l"
      ],
      "execution_count": 0,
      "outputs": []
    }
  ]
}