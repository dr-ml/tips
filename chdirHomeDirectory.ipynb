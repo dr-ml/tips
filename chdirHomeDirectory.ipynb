{
  "nbformat": 4,
  "nbformat_minor": 0,
  "metadata": {
    "colab": {
      "name": "chdirHomeDirectory.ipynb",
      "provenance": [],
      "collapsed_sections": [],
      "authorship_tag": "ABX9TyPyuMVbmKVjJ+Dm++K+gmCO",
      "include_colab_link": true
    },
    "kernelspec": {
      "name": "python3",
      "display_name": "Python 3"
    }
  },
  "cells": [
    {
      "cell_type": "markdown",
      "metadata": {
        "id": "view-in-github",
        "colab_type": "text"
      },
      "source": [
        "<a href=\"https://colab.research.google.com/github/dr-ml/tips/blob/master/chdirHomeDirectory.ipynb\" target=\"_parent\"><img src=\"https://colab.research.google.com/assets/colab-badge.svg\" alt=\"Open In Colab\"/></a>"
      ]
    },
    {
      "cell_type": "markdown",
      "metadata": {
        "id": "I6nJGUF8XVvr",
        "colab_type": "text"
      },
      "source": [
        "動作テストのために、カレントディレクトリをルートに"
      ]
    },
    {
      "cell_type": "code",
      "metadata": {
        "id": "QzHiQzASW-9n",
        "colab_type": "code",
        "colab": {
          "base_uri": "https://localhost:8080/",
          "height": 52
        },
        "outputId": "f9ba83e5-128b-43a7-f695-dc554dad1fb5"
      },
      "source": [
        "%cd /\n",
        "%pwd"
      ],
      "execution_count": 1,
      "outputs": [
        {
          "output_type": "stream",
          "text": [
            "/\n"
          ],
          "name": "stdout"
        },
        {
          "output_type": "execute_result",
          "data": {
            "text/plain": [
              "'/'"
            ]
          },
          "metadata": {
            "tags": []
          },
          "execution_count": 1
        }
      ]
    },
    {
      "cell_type": "markdown",
      "metadata": {
        "id": "d7A1swXXxJVF",
        "colab_type": "text"
      },
      "source": [
        "ホームディレクトリに移動"
      ]
    },
    {
      "cell_type": "code",
      "metadata": {
        "id": "A08ka2PBwqHt",
        "colab_type": "code",
        "colab": {}
      },
      "source": [
        "import os\n",
        "\n",
        "os.chdir(os.path.expanduser('~'))"
      ],
      "execution_count": 0,
      "outputs": []
    },
    {
      "cell_type": "markdown",
      "metadata": {
        "id": "eLcEiPv8XePg",
        "colab_type": "text"
      },
      "source": [
        "カレントディレクトリがホームディレクトリになったことを確認"
      ]
    },
    {
      "cell_type": "code",
      "metadata": {
        "id": "bvnYZXn8XB_Y",
        "colab_type": "code",
        "colab": {
          "base_uri": "https://localhost:8080/",
          "height": 35
        },
        "outputId": "caa85bce-f8ca-4070-e2af-14d7b28723a7"
      },
      "source": [
        "%pwd"
      ],
      "execution_count": 3,
      "outputs": [
        {
          "output_type": "execute_result",
          "data": {
            "text/plain": [
              "'/root'"
            ]
          },
          "metadata": {
            "tags": []
          },
          "execution_count": 3
        }
      ]
    }
  ]
}